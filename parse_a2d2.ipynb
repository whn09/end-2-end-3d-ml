{
 "cells": [
  {
   "cell_type": "code",
   "execution_count": 2,
   "id": "11fc98df-13df-40ee-85bf-1397cc6e2b6c",
   "metadata": {
    "tags": []
   },
   "outputs": [],
   "source": [
    "import numpy as np"
   ]
  },
  {
   "cell_type": "code",
   "execution_count": 1,
   "id": "4735c75e-1f02-42d1-a3bf-ac6cdb257972",
   "metadata": {
    "tags": []
   },
   "outputs": [
    {
     "name": "stdout",
     "output_type": "stream",
     "text": [
      "../fsx/a2d2/camera_lidar_semantic_bboxes/20180807_145028/lidar/cam_front_center/20180807145028_lidar_frontcenter_000000091.bin\n"
     ]
    }
   ],
   "source": [
    "dataset_root_path = \"../fsx/a2d2/\"\n",
    "scene_id = \"20180807_145028\"\n",
    "file_scene_prefix = scene_id.replace(\"_\", \"\")\n",
    "frame_id = \"000000091\"\n",
    "\n",
    "input_1_location = f\"../fsx/a2d2/camera_lidar_semantic_bboxes/{scene_id}/lidar/cam_front_center/{file_scene_prefix}_lidar_frontcenter_{frame_id}.bin\"\n",
    "print(input_1_location)"
   ]
  },
  {
   "cell_type": "code",
   "execution_count": 3,
   "id": "dcb3b676-3f90-4f75-82fa-e14d12e157cb",
   "metadata": {
    "tags": []
   },
   "outputs": [],
   "source": [
    "points = np.fromfile(input_1_location, dtype=np.float32)"
   ]
  },
  {
   "cell_type": "code",
   "execution_count": 5,
   "id": "fa0bc748-e8bd-4262-aa49-e7c9e97787b2",
   "metadata": {
    "tags": []
   },
   "outputs": [
    {
     "data": {
      "text/plain": [
       "(37044,)"
      ]
     },
     "execution_count": 5,
     "metadata": {},
     "output_type": "execute_result"
    }
   ],
   "source": [
    "points.shape"
   ]
  },
  {
   "cell_type": "code",
   "execution_count": 9,
   "id": "0ecbef6a-217f-4214-9593-a8224e32c51f",
   "metadata": {
    "tags": []
   },
   "outputs": [],
   "source": [
    "load_dim = 4\n",
    "points = points.reshape(-1, load_dim)"
   ]
  },
  {
   "cell_type": "code",
   "execution_count": 10,
   "id": "a4e6fb05-9f0a-463e-98f9-6dc6f3c1cc6e",
   "metadata": {
    "tags": []
   },
   "outputs": [
    {
     "data": {
      "text/plain": [
       "(9261, 4)"
      ]
     },
     "execution_count": 10,
     "metadata": {},
     "output_type": "execute_result"
    }
   ],
   "source": [
    "points.shape"
   ]
  },
  {
   "cell_type": "code",
   "execution_count": 11,
   "id": "f2589579-e6f3-411b-b89a-62b2e2a2c788",
   "metadata": {
    "tags": []
   },
   "outputs": [
    {
     "data": {
      "text/plain": [
       "array([[  6.0503883,   0.9620881,  -1.7177452,   7.       ],\n",
       "       [  6.6677694,   1.1342102,  -1.7090718,   8.       ],\n",
       "       [  7.4370627,   1.344765 ,  -1.7040207,   6.       ],\n",
       "       ...,\n",
       "       [ 34.2063   , -19.080511 ,   9.1748085,  73.       ],\n",
       "       [ 34.216587 , -19.328083 ,   7.709195 ,  73.       ],\n",
       "       [ 34.20591  , -19.241108 ,   9.199645 ,  73.       ]],\n",
       "      dtype=float32)"
      ]
     },
     "execution_count": 11,
     "metadata": {},
     "output_type": "execute_result"
    }
   ],
   "source": [
    "points"
   ]
  },
  {
   "cell_type": "code",
   "execution_count": 12,
   "id": "452063ed-3d00-4900-82a2-7a01c3df8d22",
   "metadata": {
    "tags": []
   },
   "outputs": [],
   "source": [
    "lidar_front_center = np.load(input_1_location.replace('.bin', '.npz'))"
   ]
  },
  {
   "cell_type": "code",
   "execution_count": 15,
   "id": "30aece1d-3fcd-422d-a299-98315dfed74e",
   "metadata": {
    "tags": []
   },
   "outputs": [
    {
     "name": "stdout",
     "output_type": "stream",
     "text": [
      "['azimuth', 'row', 'lidar_id', 'depth', 'reflectance', 'col', 'points', 'timestamp', 'distance']\n"
     ]
    }
   ],
   "source": [
    "print(list(lidar_front_center.keys()))"
   ]
  },
  {
   "cell_type": "code",
   "execution_count": 22,
   "id": "9a10ba2a-95ce-41a7-b1df-ece824730b88",
   "metadata": {
    "tags": []
   },
   "outputs": [
    {
     "name": "stdout",
     "output_type": "stream",
     "text": [
      "azimuth (9261,) float64\n",
      "row (9261,) float64\n",
      "lidar_id (9261,) float64\n",
      "depth (9261,) float64\n",
      "reflectance (9261,) int64\n",
      "col (9261,) float64\n",
      "points (9261, 3) float64\n",
      "timestamp (9261,) int64\n",
      "distance (9261,) float64\n"
     ]
    }
   ],
   "source": [
    "for key in list(lidar_front_center.keys()):\n",
    "    print(key, lidar_front_center[key].shape, lidar_front_center[key].dtype)"
   ]
  },
  {
   "cell_type": "code",
   "execution_count": 16,
   "id": "af285a1a-c2e3-4be0-a237-573b90db18e2",
   "metadata": {
    "tags": []
   },
   "outputs": [
    {
     "data": {
      "text/plain": [
       "array([[  6.05038855,   0.9620881 ,  -1.71774515],\n",
       "       [  6.66776922,   1.13421021,  -1.70907173],\n",
       "       [  7.4370629 ,   1.34476496,  -1.70402073],\n",
       "       ...,\n",
       "       [ 34.20629763, -19.08051037,   9.17480813],\n",
       "       [ 34.21658837, -19.32808217,   7.70919526],\n",
       "       [ 34.20591006, -19.24110816,   9.19964478]])"
      ]
     },
     "execution_count": 16,
     "metadata": {},
     "output_type": "execute_result"
    }
   ],
   "source": [
    "lidar_front_center['points']"
   ]
  },
  {
   "cell_type": "code",
   "execution_count": 17,
   "id": "12aaae7d-c347-4850-9fa0-ed1312c34ae8",
   "metadata": {
    "tags": []
   },
   "outputs": [
    {
     "data": {
      "text/plain": [
       "array([ 7,  8,  6, ..., 73, 73, 73])"
      ]
     },
     "execution_count": 17,
     "metadata": {},
     "output_type": "execute_result"
    }
   ],
   "source": [
    "lidar_front_center['reflectance']"
   ]
  },
  {
   "cell_type": "code",
   "execution_count": null,
   "id": "6b8105fb-a608-4e5d-a209-867ef515c134",
   "metadata": {},
   "outputs": [],
   "source": []
  }
 ],
 "metadata": {
  "kernelspec": {
   "display_name": "conda_pytorch_p39",
   "language": "python",
   "name": "conda_pytorch_p39"
  },
  "language_info": {
   "codemirror_mode": {
    "name": "ipython",
    "version": 3
   },
   "file_extension": ".py",
   "mimetype": "text/x-python",
   "name": "python",
   "nbconvert_exporter": "python",
   "pygments_lexer": "ipython3",
   "version": "3.9.15"
  }
 },
 "nbformat": 4,
 "nbformat_minor": 5
}
